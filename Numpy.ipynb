{
  "nbformat": 4,
  "nbformat_minor": 0,
  "metadata": {
    "colab": {
      "name": "Numpy.ipynb",
      "version": "0.3.2",
      "provenance": [],
      "collapsed_sections": [],
      "include_colab_link": true
    },
    "kernelspec": {
      "name": "python3",
      "display_name": "Python 3"
    },
    "accelerator": "GPU"
  },
  "cells": [
    {
      "cell_type": "markdown",
      "metadata": {
        "id": "view-in-github",
        "colab_type": "text"
      },
      "source": [
        "<a href=\"https://colab.research.google.com/github/dkpark10/Python-Practice/blob/master/Numpy.ipynb\" target=\"_parent\"><img src=\"https://colab.research.google.com/assets/colab-badge.svg\" alt=\"Open In Colab\"/></a>"
      ]
    },
    {
      "cell_type": "code",
      "metadata": {
        "id": "_kVz18jEtND-",
        "colab_type": "code",
        "outputId": "6280b917-51c1-4ed6-83b4-7ee88545a3f9",
        "colab": {
          "base_uri": "https://localhost:8080/",
          "height": 272
        }
      },
      "source": [
        "import numpy as np\n",
        "\n",
        "l=list(range(2,19,2))\n",
        "a=np.array(l)\n",
        "print(\"current array: {} \".format(a))\n",
        "\n",
        "a=np.append(a,234) #array에 값 추가\n",
        "print(\"current array: {} \".format(a))\n",
        "\n",
        "print('printing each element')\n",
        "\n",
        "for i in a: \n",
        "  print(i, end=\" \")\n",
        "print() \n",
        "for i,e in enumerate(a):\n",
        "  print('index: {}, value: {}'.format(i,e))\n",
        "  "
      ],
      "execution_count": 6,
      "outputs": [
        {
          "output_type": "stream",
          "text": [
            "current array: [ 2  4  6  8 10 12 14 16 18] \n",
            "current array: [  2   4   6   8  10  12  14  16  18 234] \n",
            "printing each element\n",
            "2 4 6 8 10 12 14 16 18 234 \n",
            "index: 0, value: 2\n",
            "index: 1, value: 4\n",
            "index: 2, value: 6\n",
            "index: 3, value: 8\n",
            "index: 4, value: 10\n",
            "index: 5, value: 12\n",
            "index: 6, value: 14\n",
            "index: 7, value: 16\n",
            "index: 8, value: 18\n",
            "index: 9, value: 234\n"
          ],
          "name": "stdout"
        }
      ]
    },
    {
      "cell_type": "markdown",
      "metadata": {
        "id": "7TKx7AfRxvdh",
        "colab_type": "text"
      },
      "source": [
        "# numpy 수학연산"
      ]
    },
    {
      "cell_type": "code",
      "metadata": {
        "id": "9qx5IdLHvWFT",
        "colab_type": "code",
        "outputId": "00baefc2-a356-4453-de5f-c98c23fa25fa",
        "colab": {
          "base_uri": "https://localhost:8080/",
          "height": 126
        }
      },
      "source": [
        "b=np.array(l)\n",
        "print(b)\n",
        "print('max = {}'.format(np.max(b)))\n",
        "print('average= {}'.format(np.average(b)))\n",
        "print('index of max ={}'.format(np.argmax(b)))\n",
        "print('min = {}'.format(np.min(b)))\n",
        "print('index of min ={}'.format(np.argmin(b)))"
      ],
      "execution_count": 8,
      "outputs": [
        {
          "output_type": "stream",
          "text": [
            "[ 2  4  6  8 10 12 14 16 18]\n",
            "max = 18\n",
            "average= 10.0\n",
            "index of max =8\n",
            "min = 2\n",
            "index of min =0\n"
          ],
          "name": "stdout"
        }
      ]
    },
    {
      "cell_type": "markdown",
      "metadata": {
        "id": "YUCehbYRx5B6",
        "colab_type": "text"
      },
      "source": [
        "# numpy Type"
      ]
    },
    {
      "cell_type": "code",
      "metadata": {
        "id": "XtGXmP0ZwcTf",
        "colab_type": "code",
        "outputId": "2f7b5e3e-809c-47c5-9787-9a6577e49fbc",
        "colab": {
          "base_uri": "https://localhost:8080/",
          "height": 35
        }
      },
      "source": [
        "print('type of a {}, type of a[0]{}'.format(type(a),type(a[0]))) # type of a <class 'numpy.ndarray'>, type of a[0]<class 'numpy.int64'>"
      ],
      "execution_count": 9,
      "outputs": [
        {
          "output_type": "stream",
          "text": [
            "type of a <class 'numpy.ndarray'>, type of a[0]<class 'numpy.int64'>\n"
          ],
          "name": "stdout"
        }
      ]
    },
    {
      "cell_type": "code",
      "metadata": {
        "id": "F9-Odlr3xeu_",
        "colab_type": "code",
        "outputId": "93c1e164-85b8-4019-b8f8-975a6d652a6e",
        "colab": {
          "base_uri": "https://localhost:8080/",
          "height": 90
        }
      },
      "source": [
        "c= np.random.rand(3,3) # 3*3 랜덤어레이 \n",
        "print(c)\n",
        "print(type(c))"
      ],
      "execution_count": 11,
      "outputs": [
        {
          "output_type": "stream",
          "text": [
            "[[0.39048844 0.75756179 0.66413789]\n",
            " [0.22976456 0.91701989 0.29967064]\n",
            " [0.57927597 0.37654416 0.78205474]]\n",
            "<class 'numpy.ndarray'>\n"
          ],
          "name": "stdout"
        }
      ]
    },
    {
      "cell_type": "code",
      "metadata": {
        "id": "gH23lutQx3mA",
        "colab_type": "code",
        "outputId": "527fada7-6bf1-4f3f-91c9-f96b008328f6",
        "colab": {
          "base_uri": "https://localhost:8080/",
          "height": 71
        }
      },
      "source": [
        "print('shape of a: {}'.format(a.shape)) # 1차원\n",
        "print('shape of b: {}'.format(b.shape))\n",
        "print('shape of c: {}'.format(c.shape)) # 2차원"
      ],
      "execution_count": 0,
      "outputs": [
        {
          "output_type": "stream",
          "text": [
            "shape of a: (3,)\n",
            "shape of b: (5,)\n",
            "shape of c: (3, 3)\n"
          ],
          "name": "stdout"
        }
      ]
    },
    {
      "cell_type": "code",
      "metadata": {
        "id": "AbUBoh8SyNhU",
        "colab_type": "code",
        "outputId": "e56190ca-1be6-4676-de1f-b20335a380c6",
        "colab": {
          "base_uri": "https://localhost:8080/",
          "height": 53
        }
      },
      "source": [
        "import numpy as np\n",
        "from IPython.display import display\n",
        "\n",
        "aa=np.array([1,2,3]) # 랭크 1 배열을 만든다 \n",
        "print(type(aa),aa.shape,aa[0],aa[1],aa[2])\n",
        "aa[0]=5              # 값을 대입\n",
        "display(aa)"
      ],
      "execution_count": 0,
      "outputs": [
        {
          "output_type": "stream",
          "text": [
            "<class 'numpy.ndarray'> (3,) 1 2 3\n"
          ],
          "name": "stdout"
        },
        {
          "output_type": "display_data",
          "data": {
            "text/plain": [
              "array([5, 2, 3])"
            ]
          },
          "metadata": {
            "tags": []
          }
        }
      ]
    },
    {
      "cell_type": "code",
      "metadata": {
        "id": "WKYLvNQt2J1V",
        "colab_type": "code",
        "outputId": "756339bd-bb6d-45a9-e822-dc8c46b186aa",
        "colab": {
          "base_uri": "https://localhost:8080/",
          "height": 90
        }
      },
      "source": [
        "l1= list(range(3))\n",
        "l2= list(range(4,7))\n",
        "\n",
        "bb= np.array([l1,l2]) # 랭크 2 배열 \n",
        "display(bb)\n",
        "print(bb.shape)       # [2][3] 배열\n",
        "print(bb[0][0],bb[0][1],bb[1][0])"
      ],
      "execution_count": 12,
      "outputs": [
        {
          "output_type": "display_data",
          "data": {
            "text/plain": [
              "array([[0, 1, 2],\n",
              "       [4, 5, 6]])"
            ]
          },
          "metadata": {
            "tags": []
          }
        },
        {
          "output_type": "stream",
          "text": [
            "(2, 3)\n",
            "0 1 4\n"
          ],
          "name": "stdout"
        }
      ]
    },
    {
      "cell_type": "code",
      "metadata": {
        "id": "LjkNG3q23oJl",
        "colab_type": "code",
        "outputId": "7d3d4d0d-fa5b-444a-d8fc-ef962f066297",
        "colab": {
          "base_uri": "https://localhost:8080/",
          "height": 35
        }
      },
      "source": [
        "aa=np.zeros((1,1)) # 0으로 초기화\n",
        "display(aa) "
      ],
      "execution_count": 19,
      "outputs": [
        {
          "output_type": "display_data",
          "data": {
            "text/plain": [
              "array([[0.]])"
            ]
          },
          "metadata": {
            "tags": []
          }
        }
      ]
    },
    {
      "cell_type": "code",
      "metadata": {
        "id": "h_YdgXFI4SX2",
        "colab_type": "code",
        "outputId": "a1e4e8d1-310f-424a-af19-f8ab4f1bfaa4",
        "colab": {
          "base_uri": "https://localhost:8080/",
          "height": 54
        }
      },
      "source": [
        "b=np.ones((2,2)) # 1로 설정된 ndarray를 생성 \n",
        "display(b)"
      ],
      "execution_count": 16,
      "outputs": [
        {
          "output_type": "display_data",
          "data": {
            "text/plain": [
              "array([[1., 1.],\n",
              "       [1., 1.]])"
            ]
          },
          "metadata": {
            "tags": []
          }
        }
      ]
    },
    {
      "cell_type": "code",
      "metadata": {
        "id": "ZmImEd0d4wok",
        "colab_type": "code",
        "outputId": "ffb88f6c-e112-4a2f-9724-c21540d64d82",
        "colab": {
          "base_uri": "https://localhost:8080/",
          "height": 54
        }
      },
      "source": [
        "c=np.full((2,2),7) # 상수 7로 설정된 ndarray를 생성한다. 2*2 배열\n",
        "display(c)"
      ],
      "execution_count": 20,
      "outputs": [
        {
          "output_type": "display_data",
          "data": {
            "text/plain": [
              "array([[7, 7],\n",
              "       [7, 7]])"
            ]
          },
          "metadata": {
            "tags": []
          }
        }
      ]
    },
    {
      "cell_type": "code",
      "metadata": {
        "id": "EXoGxlen4_gM",
        "colab_type": "code",
        "outputId": "e26d7744-97b0-444e-8721-84b2460c0bdd",
        "colab": {
          "base_uri": "https://localhost:8080/",
          "height": 54
        }
      },
      "source": [
        "np.ones((2,2)) *12 # 모든 요소에 12을 곱함 \n"
      ],
      "execution_count": 28,
      "outputs": [
        {
          "output_type": "execute_result",
          "data": {
            "text/plain": [
              "array([[12., 12.],\n",
              "       [12., 12.]])"
            ]
          },
          "metadata": {
            "tags": []
          },
          "execution_count": 28
        }
      ]
    },
    {
      "cell_type": "code",
      "metadata": {
        "id": "X3LbUPPL5QKX",
        "colab_type": "code",
        "outputId": "3930ec36-9d8f-4ebd-e6be-ff135bdbf2f5",
        "colab": {
          "base_uri": "https://localhost:8080/",
          "height": 145
        }
      },
      "source": [
        "d=np.eye(7) # 단위 행렬 대각선에 값\n",
        "print(d)"
      ],
      "execution_count": 27,
      "outputs": [
        {
          "output_type": "stream",
          "text": [
            "[[1. 0. 0. 0. 0. 0. 0.]\n",
            " [0. 1. 0. 0. 0. 0. 0.]\n",
            " [0. 0. 1. 0. 0. 0. 0.]\n",
            " [0. 0. 0. 1. 0. 0. 0.]\n",
            " [0. 0. 0. 0. 1. 0. 0.]\n",
            " [0. 0. 0. 0. 0. 1. 0.]\n",
            " [0. 0. 0. 0. 0. 0. 1.]]\n"
          ],
          "name": "stdout"
        }
      ]
    },
    {
      "cell_type": "code",
      "metadata": {
        "id": "jHUDahxU5j6k",
        "colab_type": "code",
        "outputId": "dc60cb75-e02a-46f1-feb6-8366b49443be",
        "colab": {
          "base_uri": "https://localhost:8080/",
          "height": 54
        }
      },
      "source": [
        "e= np.random.random((2,2)) # 0-1 사이 랜덤으로 2*2 배열생성\n",
        "display(e)"
      ],
      "execution_count": 24,
      "outputs": [
        {
          "output_type": "display_data",
          "data": {
            "text/plain": [
              "array([[0.21392602, 0.3466814 ],\n",
              "       [0.40712177, 0.9037656 ]])"
            ]
          },
          "metadata": {
            "tags": []
          }
        }
      ]
    },
    {
      "cell_type": "code",
      "metadata": {
        "id": "Psp6m-pN57tN",
        "colab_type": "code",
        "outputId": "f315cd70-fccb-479e-f98f-7377767703f6",
        "colab": {
          "base_uri": "https://localhost:8080/",
          "height": 90
        }
      },
      "source": [
        "f= np.random.randn(4,4) # 표준 정규분포를 따르는 무작위값 배열 생ㅅㅇ \n",
        "display(f)"
      ],
      "execution_count": 29,
      "outputs": [
        {
          "output_type": "display_data",
          "data": {
            "text/plain": [
              "array([[ 0.20862022, -0.57984485,  0.51713798, -0.77832702],\n",
              "       [ 1.22206634, -1.42546373, -0.80183285, -0.66733522],\n",
              "       [ 1.11147494, -0.24475851, -0.1615211 ,  0.8131974 ],\n",
              "       [ 2.53343493, -0.45304065, -0.11451207,  2.49146859]])"
            ]
          },
          "metadata": {
            "tags": []
          }
        }
      ]
    },
    {
      "cell_type": "code",
      "metadata": {
        "id": "TGb_ql8q6NG6",
        "colab_type": "code",
        "outputId": "101d6764-4305-4224-f25a-82eadf6cf52c",
        "colab": {
          "base_uri": "https://localhost:8080/",
          "height": 53
        }
      },
      "source": [
        "g= np.random.normal(size=(2,2))\n",
        "display(g)\n",
        "np.random.normal?"
      ],
      "execution_count": 0,
      "outputs": [
        {
          "output_type": "display_data",
          "data": {
            "text/plain": [
              "array([[ 0.1047425 ,  2.04604376],\n",
              "       [ 0.01474402, -0.87940932]])"
            ]
          },
          "metadata": {
            "tags": []
          }
        }
      ]
    },
    {
      "cell_type": "code",
      "metadata": {
        "id": "jvF_jo_16xGs",
        "colab_type": "code",
        "outputId": "eab7efdb-c2f9-46ab-9138-e4d3302abb62",
        "colab": {
          "base_uri": "https://localhost:8080/",
          "height": 54
        }
      },
      "source": [
        "a=np.array([[1,2,3,4],[5,6,7,8],[9,10,11,12]])\n",
        "b=a[:2, 1:3] # 얕은복사 b 바꾸면 a 도 바뀜 0~1인덱스에서 1~2 뽑기\n",
        "display(b)"
      ],
      "execution_count": 30,
      "outputs": [
        {
          "output_type": "display_data",
          "data": {
            "text/plain": [
              "array([[2, 3],\n",
              "       [6, 7]])"
            ]
          },
          "metadata": {
            "tags": []
          }
        }
      ]
    },
    {
      "cell_type": "code",
      "metadata": {
        "id": "YNJ0sPk27sir",
        "colab_type": "code",
        "outputId": "2725bfb1-59b6-4ad8-ef77-097110a1dfb2",
        "colab": {
          "base_uri": "https://localhost:8080/",
          "height": 54
        }
      },
      "source": [
        "print(a[0][1])\n",
        "b[0,0]=11\n",
        "print(a[0][1])"
      ],
      "execution_count": 33,
      "outputs": [
        {
          "output_type": "stream",
          "text": [
            "11\n",
            "11\n"
          ],
          "name": "stdout"
        }
      ]
    },
    {
      "cell_type": "code",
      "metadata": {
        "id": "XPhO8O_Y8z6d",
        "colab_type": "code",
        "outputId": "6f5308f2-945b-4821-c925-8817252cce88",
        "colab": {
          "base_uri": "https://localhost:8080/",
          "height": 89
        }
      },
      "source": [
        "# 단층 퍼셉트론으로 AND 게이트 구현\n",
        "\n",
        "def AND(x1, x2):\n",
        "  x=np.array([x1,x2])\n",
        "  w=np.array([0.5,0.5])\n",
        "  b=-0.7\n",
        "  tmp=np.sum(w*x)+b\n",
        "  print(tmp)\n",
        "\n",
        "  if(tmp<=0):\n",
        "    return 0\n",
        "  else:\n",
        "    return 1 \n",
        "  \n",
        "if __name__ == \"__main__\":\n",
        "  for xs in [(0,0),(0,1),(1,0),(1,1)]:\n",
        "    y=AND(xs[0],xs[1])\n",
        "    print((str(xs)+\" --->\"+str(y)))"
      ],
      "execution_count": 0,
      "outputs": [
        {
          "output_type": "stream",
          "text": [
            "(0, 0) --->0\n",
            "(0, 1) --->0\n",
            "(1, 0) --->0\n",
            "(1, 1) --->1\n"
          ],
          "name": "stdout"
        }
      ]
    },
    {
      "cell_type": "code",
      "metadata": {
        "id": "Zp2HP_Ro-hfb",
        "colab_type": "code",
        "outputId": "04000d2d-b598-4842-c9c5-428570a6e386",
        "colab": {
          "base_uri": "https://localhost:8080/",
          "height": 161
        }
      },
      "source": [
        "# 단층 퍼셉트론으로 NAND 게이트 구현\n",
        "\n",
        "def NAND(x1, x2):\n",
        "  x=np.array([x1,x2])\n",
        "  w=np.array([-0.5,-0.5])\n",
        "  b=0.7\n",
        "  tmp=np.sum(w*x)+b\n",
        "  print(tmp)\n",
        "  \n",
        "  if(tmp<=0):\n",
        "    return 0\n",
        "  else:\n",
        "    return 1 \n",
        "  \n",
        "if __name__ == \"__main__\":\n",
        "  for xs in [(0,0),(0,1),(1,0),(1,1)]:\n",
        "    y=NAND(xs[0],xs[1])\n",
        "    print((str(xs)+\" --->\"+str(y)))"
      ],
      "execution_count": 0,
      "outputs": [
        {
          "output_type": "stream",
          "text": [
            "0.7\n",
            "(0, 0) --->1\n",
            "0.19999999999999996\n",
            "(0, 1) --->1\n",
            "0.19999999999999996\n",
            "(1, 0) --->1\n",
            "-0.30000000000000004\n",
            "(1, 1) --->0\n"
          ],
          "name": "stdout"
        }
      ]
    },
    {
      "cell_type": "code",
      "metadata": {
        "id": "c3tqHwVD-yTU",
        "colab_type": "code",
        "outputId": "7cbd771b-056e-4cbb-f469-3804720db95a",
        "colab": {
          "base_uri": "https://localhost:8080/",
          "height": 161
        }
      },
      "source": [
        "# 단층 퍼셉트론으로 OR 게이트 구현\n",
        "\n",
        "def OR(x1, x2):\n",
        "  x=np.array([x1,x2])\n",
        "  w=np.array([0.5,0.5])\n",
        "  b=-0.3\n",
        "  tmp=np.sum(w*x)+b\n",
        "  print(tmp)\n",
        "  \n",
        "  if(tmp<=0):\n",
        "    return 0\n",
        "  else:\n",
        "    return 1 \n",
        "  \n",
        "if __name__ == \"__main__\":\n",
        "  for xs in [(0,0),(0,1),(1,0),(1,1)]:\n",
        "    y=OR(xs[0],xs[1])\n",
        "    print((str(xs)+\" --->\"+str(y)))\n"
      ],
      "execution_count": 0,
      "outputs": [
        {
          "output_type": "stream",
          "text": [
            "-0.3\n",
            "(0, 0) --->0\n",
            "0.2\n",
            "(0, 1) --->1\n",
            "0.2\n",
            "(1, 0) --->1\n",
            "0.7\n",
            "(1, 1) --->1\n"
          ],
          "name": "stdout"
        }
      ]
    },
    {
      "cell_type": "code",
      "metadata": {
        "id": "eDYOpPxW_nO9",
        "colab_type": "code",
        "outputId": "25e42010-452f-4dbf-de4d-baac15557428",
        "colab": {
          "base_uri": "https://localhost:8080/",
          "height": 89
        }
      },
      "source": [
        "test1=np.array([[0,0],[0,1]])\n",
        "display(test1)\n",
        "\n",
        "test2=np.array([0.5,0.5])\n",
        "\n",
        "result= np.sum(test1*test2)\n",
        "print(result)\n"
      ],
      "execution_count": 0,
      "outputs": [
        {
          "output_type": "display_data",
          "data": {
            "text/plain": [
              "array([[0, 0],\n",
              "       [0, 1]])"
            ]
          },
          "metadata": {
            "tags": []
          }
        },
        {
          "output_type": "stream",
          "text": [
            "0.5\n",
            "<class 'list'>\n"
          ],
          "name": "stdout"
        }
      ]
    },
    {
      "cell_type": "code",
      "metadata": {
        "id": "ZaPNP29RCBzq",
        "colab_type": "code",
        "outputId": "2f268389-c128-49a4-815f-71e09c273599",
        "colab": {
          "base_uri": "https://localhost:8080/",
          "height": 197
        }
      },
      "source": [
        "import numpy as np\n",
        "\n",
        "l= list(range(1,8+1))\n",
        "nn= np.array(l)\n",
        "nn=nn.reshape(4,2) # 배열 모양 재정렬\n",
        "\n",
        "print(nn,'\\n')\n",
        "print(nn[1][1],'\\n') # 1,1 인덱스 반환\n",
        "\n",
        "three = np.arange(9).reshape(3,3)\n",
        "print(three)\n"
      ],
      "execution_count": 0,
      "outputs": [
        {
          "output_type": "stream",
          "text": [
            "[[1 2]\n",
            " [3 4]\n",
            " [5 6]\n",
            " [7 8]] \n",
            "\n",
            "4 \n",
            "\n",
            "[[0 1 2]\n",
            " [3 4 5]\n",
            " [6 7 8]]\n"
          ],
          "name": "stdout"
        }
      ]
    },
    {
      "cell_type": "code",
      "metadata": {
        "id": "yECTBkFwPAdy",
        "colab_type": "code",
        "colab": {}
      },
      "source": [
        ""
      ],
      "execution_count": 0,
      "outputs": []
    }
  ]
}